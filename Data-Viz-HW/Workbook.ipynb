{
 "cells": [
  {
   "cell_type": "markdown",
   "metadata": {},
   "source": [
    "## Code For IS445 Homework6"
   ]
  },
  {
   "cell_type": "code",
   "execution_count": 3,
   "metadata": {},
   "outputs": [],
   "source": [
    "import pandas as pd\n",
    "import altair as alt\n",
    "\n",
    "data_url = 'https://raw.githubusercontent.com/UIUC-iSchool-DataViz/is445_data/main/building_inventory.csv'\n",
    "data = pd.read_csv(data_url)"
   ]
  },
  {
   "cell_type": "code",
   "execution_count": 5,
   "metadata": {},
   "outputs": [
    {
     "name": "stdout",
     "output_type": "stream",
     "text": [
      "Agency Name                object\n",
      "Location Name              object\n",
      "Address                    object\n",
      "City                       object\n",
      "Zip code                    int64\n",
      "County                     object\n",
      "Congress Dist               int64\n",
      "Congressional Full Name    object\n",
      "Rep Dist                    int64\n",
      "Rep Full Name              object\n",
      "Senate Dist                 int64\n",
      "Senator Full Name          object\n",
      "Bldg Status                object\n",
      "Year Acquired               int64\n",
      "Year Constructed            int64\n",
      "Square Footage              int64\n",
      "Total Floors                int64\n",
      "Floors Above Grade          int64\n",
      "Floors Below Grade          int64\n",
      "Usage Description          object\n",
      "Usage Description 2        object\n",
      "Usage Description 3        object\n",
      "dtype: object\n"
     ]
    }
   ],
   "source": [
    "# print(data.dtypes)"
   ]
  },
  {
   "cell_type": "code",
   "execution_count": 4,
   "metadata": {},
   "outputs": [
    {
     "name": "stdout",
     "output_type": "stream",
     "text": [
      "['In Use' 'Abandon' 'In Progress']\n"
     ]
    }
   ],
   "source": [
    "# print(data[\"Bldg Status\"].unique())"
   ]
  },
  {
   "cell_type": "code",
   "execution_count": 19,
   "metadata": {},
   "outputs": [
    {
     "data": {
      "text/html": [
       "\n",
       "<style>\n",
       "  #altair-viz-e483b8df737b455dadc1619e37f675c0.vega-embed {\n",
       "    width: 100%;\n",
       "    display: flex;\n",
       "  }\n",
       "\n",
       "  #altair-viz-e483b8df737b455dadc1619e37f675c0.vega-embed details,\n",
       "  #altair-viz-e483b8df737b455dadc1619e37f675c0.vega-embed details summary {\n",
       "    position: relative;\n",
       "  }\n",
       "</style>\n",
       "<div id=\"altair-viz-e483b8df737b455dadc1619e37f675c0\"></div>\n",
       "<script type=\"text/javascript\">\n",
       "  var VEGA_DEBUG = (typeof VEGA_DEBUG == \"undefined\") ? {} : VEGA_DEBUG;\n",
       "  (function(spec, embedOpt){\n",
       "    let outputDiv = document.currentScript.previousElementSibling;\n",
       "    if (outputDiv.id !== \"altair-viz-e483b8df737b455dadc1619e37f675c0\") {\n",
       "      outputDiv = document.getElementById(\"altair-viz-e483b8df737b455dadc1619e37f675c0\");\n",
       "    }\n",
       "    const paths = {\n",
       "      \"vega\": \"https://cdn.jsdelivr.net/npm/vega@5?noext\",\n",
       "      \"vega-lib\": \"https://cdn.jsdelivr.net/npm/vega-lib?noext\",\n",
       "      \"vega-lite\": \"https://cdn.jsdelivr.net/npm/vega-lite@5.8.0?noext\",\n",
       "      \"vega-embed\": \"https://cdn.jsdelivr.net/npm/vega-embed@6?noext\",\n",
       "    };\n",
       "\n",
       "    function maybeLoadScript(lib, version) {\n",
       "      var key = `${lib.replace(\"-\", \"\")}_version`;\n",
       "      return (VEGA_DEBUG[key] == version) ?\n",
       "        Promise.resolve(paths[lib]) :\n",
       "        new Promise(function(resolve, reject) {\n",
       "          var s = document.createElement('script');\n",
       "          document.getElementsByTagName(\"head\")[0].appendChild(s);\n",
       "          s.async = true;\n",
       "          s.onload = () => {\n",
       "            VEGA_DEBUG[key] = version;\n",
       "            return resolve(paths[lib]);\n",
       "          };\n",
       "          s.onerror = () => reject(`Error loading script: ${paths[lib]}`);\n",
       "          s.src = paths[lib];\n",
       "        });\n",
       "    }\n",
       "\n",
       "    function showError(err) {\n",
       "      outputDiv.innerHTML = `<div class=\"error\" style=\"color:red;\">${err}</div>`;\n",
       "      throw err;\n",
       "    }\n",
       "\n",
       "    function displayChart(vegaEmbed) {\n",
       "      vegaEmbed(outputDiv, spec, embedOpt)\n",
       "        .catch(err => showError(`Javascript Error: ${err.message}<br>This usually means there's a typo in your chart specification. See the javascript console for the full traceback.`));\n",
       "    }\n",
       "\n",
       "    if(typeof define === \"function\" && define.amd) {\n",
       "      requirejs.config({paths});\n",
       "      require([\"vega-embed\"], displayChart, err => showError(`Error loading script: ${err.message}`));\n",
       "    } else {\n",
       "      maybeLoadScript(\"vega\", \"5\")\n",
       "        .then(() => maybeLoadScript(\"vega-lite\", \"5.8.0\"))\n",
       "        .then(() => maybeLoadScript(\"vega-embed\", \"6\"))\n",
       "        .catch(showError)\n",
       "        .then(() => displayChart(vegaEmbed));\n",
       "    }\n",
       "  })({\"config\": {\"view\": {\"continuousWidth\": 300, \"continuousHeight\": 300}}, \"layer\": [{\"mark\": {\"type\": \"bar\", \"color\": \"steelblue\"}, \"encoding\": {\"tooltip\": [{\"field\": \"Decade\", \"type\": \"quantitative\"}, {\"field\": \"Total Count\", \"type\": \"quantitative\"}], \"x\": {\"field\": \"Decade\", \"title\": \"Decade\", \"type\": \"ordinal\"}, \"y\": {\"field\": \"Total Count\", \"title\": \"Total Buildings\", \"type\": \"quantitative\"}}}, {\"mark\": {\"type\": \"line\", \"color\": \"red\", \"point\": {\"color\": \"red\"}}, \"encoding\": {\"tooltip\": [{\"field\": \"Decade\", \"type\": \"quantitative\"}, {\"field\": \"In Use Proportion\", \"type\": \"quantitative\"}], \"x\": {\"field\": \"Decade\", \"title\": \"Decade\", \"type\": \"ordinal\"}, \"y\": {\"field\": \"In Use Proportion\", \"scale\": {\"domain\": [0, 1]}, \"title\": \"In Use Proportion\", \"type\": \"quantitative\"}}}], \"data\": {\"name\": \"data-5202a5951f6519e01e2674e4603743b3\"}, \"height\": 400, \"resolve\": {\"scale\": {\"y\": \"independent\"}}, \"title\": \"Total Buildings and 'In Use' Proportion by Decade\", \"width\": 800, \"$schema\": \"https://vega.github.io/schema/vega-lite/v5.8.0.json\", \"datasets\": {\"data-5202a5951f6519e01e2674e4603743b3\": [{\"Decade\": 0, \"Total Count\": 289, \"In Use Count\": 261, \"In Use Proportion\": 0.903114186851211}, {\"Decade\": 1750, \"Total Count\": 6, \"In Use Count\": 6, \"In Use Proportion\": 1.0}, {\"Decade\": 1800, \"Total Count\": 2, \"In Use Count\": 2, \"In Use Proportion\": 1.0}, {\"Decade\": 1810, \"Total Count\": 5, \"In Use Count\": 5, \"In Use Proportion\": 1.0}, {\"Decade\": 1830, \"Total Count\": 7, \"In Use Count\": 7, \"In Use Proportion\": 1.0}, {\"Decade\": 1840, \"Total Count\": 26, \"In Use Count\": 26, \"In Use Proportion\": 1.0}, {\"Decade\": 1850, \"Total Count\": 22, \"In Use Count\": 22, \"In Use Proportion\": 1.0}, {\"Decade\": 1860, \"Total Count\": 24, \"In Use Count\": 24, \"In Use Proportion\": 1.0}, {\"Decade\": 1870, \"Total Count\": 23, \"In Use Count\": 21, \"In Use Proportion\": 0.9130434782608695}, {\"Decade\": 1880, \"Total Count\": 38, \"In Use Count\": 38, \"In Use Proportion\": 1.0}, {\"Decade\": 1890, \"Total Count\": 52, \"In Use Count\": 51, \"In Use Proportion\": 0.9807692307692307}, {\"Decade\": 1900, \"Total Count\": 101, \"In Use Count\": 91, \"In Use Proportion\": 0.900990099009901}, {\"Decade\": 1910, \"Total Count\": 110, \"In Use Count\": 100, \"In Use Proportion\": 0.9090909090909091}, {\"Decade\": 1920, \"Total Count\": 200, \"In Use Count\": 187, \"In Use Proportion\": 0.935}, {\"Decade\": 1930, \"Total Count\": 641, \"In Use Count\": 614, \"In Use Proportion\": 0.9578783151326054}, {\"Decade\": 1940, \"Total Count\": 335, \"In Use Count\": 315, \"In Use Proportion\": 0.9402985074626866}, {\"Decade\": 1950, \"Total Count\": 762, \"In Use Count\": 739, \"In Use Proportion\": 0.9698162729658792}, {\"Decade\": 1960, \"Total Count\": 1030, \"In Use Count\": 1000, \"In Use Proportion\": 0.970873786407767}, {\"Decade\": 1970, \"Total Count\": 1430, \"In Use Count\": 1382, \"In Use Proportion\": 0.9664335664335665}, {\"Decade\": 1980, \"Total Count\": 1362, \"In Use Count\": 1347, \"In Use Proportion\": 0.9889867841409692}, {\"Decade\": 1990, \"Total Count\": 1206, \"In Use Count\": 1202, \"In Use Proportion\": 0.9966832504145937}, {\"Decade\": 2000, \"Total Count\": 1034, \"In Use Count\": 1027, \"In Use Proportion\": 0.9932301740812379}, {\"Decade\": 2010, \"Total Count\": 157, \"In Use Count\": 56, \"In Use Proportion\": 0.35668789808917195}]}}, {\"mode\": \"vega-lite\"});\n",
       "</script>"
      ],
      "text/plain": [
       "alt.LayerChart(...)"
      ]
     },
     "execution_count": 19,
     "metadata": {},
     "output_type": "execute_result"
    }
   ],
   "source": [
    "# Group By Year and Building Status\n",
    "df = data[[\"Year Constructed\", \"Bldg Status\"]].dropna()\n",
    "df[\"Year Constructed\"] = df[\"Year Constructed\"].astype(int)  \n",
    "\n",
    "# Divide into groups based on year\n",
    "df[\"Decade\"] = (df[\"Year Constructed\"] // 10) * 10  \n",
    "\n",
    "# Calculate the total buildings\n",
    "total_count = df.groupby(\"Decade\").size().reset_index(name=\"Total Count\")\n",
    "\n",
    "# Calculate the buildings In Use\n",
    "in_use_count = df[df[\"Bldg Status\"] == \"In Use\"].groupby(\"Decade\").size().reset_index(name=\"In Use Count\")\n",
    "\n",
    "agg_df = pd.merge(total_count, in_use_count, on=\"Decade\", how=\"left\")\n",
    "# Calculate the proportion of building In Use\n",
    "agg_df[\"In Use Proportion\"] = agg_df[\"In Use Count\"] / agg_df[\"Total Count\"]  \n",
    "\n",
    "\n",
    "bar_chart = (\n",
    "    alt.Chart(agg_df)\n",
    "    .mark_bar(color=\"steelblue\")\n",
    "    .encode(\n",
    "        x=alt.X(\"Decade:O\", title=\"Decade\"),\n",
    "        y=alt.Y(\"Total Count:Q\", title=\"Total Buildings\"),\n",
    "        tooltip=[\"Decade\", \"Total Count\"]\n",
    "    )\n",
    ")\n",
    "\n",
    "line_chart = (\n",
    "    alt.Chart(agg_df)\n",
    "    .mark_line(color=\"red\", point=alt.OverlayMarkDef(color=\"red\"))\n",
    "    .encode(\n",
    "        x=alt.X(\"Decade:O\", title=\"Decade\"),\n",
    "        y=alt.Y(\"In Use Proportion:Q\", title=\"In Use Proportion\", scale=alt.Scale(domain=[0, 1])),\n",
    "        tooltip=[\"Decade\", \"In Use Proportion\"]\n",
    "    )\n",
    ")\n",
    "\n",
    "combined_chart = (\n",
    "    alt.layer(bar_chart, line_chart)\n",
    "    .resolve_scale(y=\"independent\")  \n",
    "    .properties(\n",
    "        title=\"Total Buildings and 'In Use' Proportion by Decade\",\n",
    "        width=800,\n",
    "        height=400,\n",
    "    )\n",
    ")\n",
    "\n",
    "\n",
    "# combined_chart\n"
   ]
  },
  {
   "cell_type": "code",
   "execution_count": 52,
   "metadata": {},
   "outputs": [
    {
     "name": "stderr",
     "output_type": "stream",
     "text": [
      "/opt/conda/lib/python3.8/site-packages/altair/utils/deprecation.py:65: AltairDeprecationWarning: 'selection_single' is deprecated.  Use 'selection_point'\n",
      "  warnings.warn(message, AltairDeprecationWarning, stacklevel=1)\n",
      "/opt/conda/lib/python3.8/site-packages/altair/utils/deprecation.py:65: AltairDeprecationWarning: 'add_selection' is deprecated. Use 'add_params' instead.\n",
      "  warnings.warn(message, AltairDeprecationWarning, stacklevel=1)\n"
     ]
    }
   ],
   "source": [
    "data_url = 'https://raw.githubusercontent.com/UIUC-iSchool-DataViz/is445_data/main/building_inventory.csv'\n",
    "data = pd.read_csv(data_url)\n",
    "\n",
    "\n",
    "df = data[[\"Year Constructed\", \"County\", \"Square Footage\", \"Total Floors\"]].dropna()\n",
    "\n",
    "\n",
    "agg_df = df.groupby([\"Year Constructed\", \"County\"]).agg(\n",
    "    building_count=('Square Footage', 'size'),\n",
    "    avg_square_footage=('Square Footage', 'mean'),\n",
    "    avg_total_floors=('Total Floors', 'mean')\n",
    ").reset_index()\n",
    "\n",
    "\n",
    "county_selection = alt.selection_single(\n",
    "    fields=['County'], \n",
    "    bind=alt.binding_select(options=agg_df['County'].unique().tolist(), name=\"Select County:\")\n",
    ")\n",
    "\n",
    "chart = alt.Chart(agg_df).transform_filter(county_selection).mark_line().encode(\n",
    "    x=alt.X('Year Constructed:O', title=\"Year\"),\n",
    "    y=alt.Y('building_count:Q', title=\"Building Count\"),\n",
    "    color=alt.Color('County:N', legend=None),\n",
    "    tooltip=['Year Constructed', 'building_count', 'avg_square_footage', 'avg_total_floors']\n",
    ").properties(\n",
    "    title=\"Building Statistics Over Time\"\n",
    ")\n",
    "\n",
    "\n",
    "chart_avg_sqft = alt.Chart(agg_df).transform_filter(county_selection).mark_line().encode(\n",
    "    x=alt.X('Year Constructed:O', title=\"Year\"),\n",
    "    y=alt.Y('avg_square_footage:Q', title=\"Average Square Footage\"),\n",
    "    color=alt.Color('County:N', legend=None),\n",
    "    tooltip=['Year Constructed', 'avg_square_footage']\n",
    ")\n",
    "\n",
    "\n",
    "chart_avg_floors = alt.Chart(agg_df).transform_filter(county_selection).mark_line().encode(\n",
    "    x=alt.X('Year Constructed:O', title=\"Year\"),\n",
    "    y=alt.Y('avg_total_floors:Q', title=\"Average Total Floors\"),\n",
    "    color=alt.Color('County:N', legend=None),\n",
    "    tooltip=['Year Constructed', 'avg_total_floors']\n",
    ")\n",
    "\n",
    "\n",
    "\n",
    "final_chart = alt.vconcat(\n",
    "    chart, \n",
    "    chart_avg_sqft, \n",
    "    chart_avg_floors\n",
    ").add_selection(\n",
    "    county_selection\n",
    ")\n"
   ]
  },
  {
   "cell_type": "code",
   "execution_count": 53,
   "metadata": {},
   "outputs": [],
   "source": [
    "# Save charts as JSON\n",
    "final_chart.save('chart1.json')\n",
    "combined_chart.save('chart2.json')"
   ]
  },
  {
   "cell_type": "code",
   "execution_count": null,
   "metadata": {},
   "outputs": [],
   "source": []
  },
  {
   "cell_type": "code",
   "execution_count": null,
   "metadata": {},
   "outputs": [],
   "source": []
  }
 ],
 "metadata": {
  "kernelspec": {
   "display_name": "Python 3",
   "language": "python",
   "name": "python3"
  },
  "language_info": {
   "codemirror_mode": {
    "name": "ipython",
    "version": 3
   },
   "file_extension": ".py",
   "mimetype": "text/x-python",
   "name": "python",
   "nbconvert_exporter": "python",
   "pygments_lexer": "ipython3",
   "version": "3.8.6"
  }
 },
 "nbformat": 4,
 "nbformat_minor": 4
}
